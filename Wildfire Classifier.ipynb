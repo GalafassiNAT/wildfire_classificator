{
 "cells": [
  {
   "cell_type": "code",
   "execution_count": 1,
   "id": "087dfebc-e737-4e46-b4e2-3c1963d4109e",
   "metadata": {},
   "outputs": [],
   "source": [
    "import pandas as pd\n",
    "import matplotlib.pyplot as plt\n",
    "import numpy as np\n",
    "import kaggle as kg\n",
    "import os\n",
    "import shutil\n",
    "from tqdm.notebook import tqdm"
   ]
  },
  {
   "cell_type": "code",
   "execution_count": 2,
   "id": "07633c49-0fa6-4629-9213-9a0476b7cb9a",
   "metadata": {},
   "outputs": [
    {
     "name": "stdout",
     "output_type": "stream",
     "text": [
      "Download Successful\n"
     ]
    }
   ],
   "source": [
    "# Importando o dataset\n",
    "dataset_handle = \"abdelghaniaaba/wildfire-prediction-dataset\"\n",
    "destination_path = \"./datasets/wildfire-prediction\"\n",
    "\n",
    "os.makedirs(destination_path, exist_ok=True)\n",
    "\n",
    "# Comentar bloco abaixo em reexecução\n",
    "\n",
    "#print(f\"Downloading dataset to '{destination_path}'...\")\n",
    "\n",
    "#kaggle_command = f'kaggle datasets download -d {dataset_handle} -p \"{destination_path}\" --unzip'\n",
    "#print(f'Executing {kaggle_command}\\n')\n",
    "\n",
    "#os.system(kaggle_command)\n",
    "print(\"Download Successful\")\n"
   ]
  },
  {
   "cell_type": "code",
   "execution_count": 3,
   "id": "9b0c9177-e347-4346-baa1-f7b06f1b6a75",
   "metadata": {},
   "outputs": [
    {
     "name": "stdout",
     "output_type": "stream",
     "text": [
      "Unspliting the dataset in './datasets/wildfire-prediction'...\n",
      "Folders created in './datasets/unsp_wildfire-prediction'\n",
      "\n"
     ]
    }
   ],
   "source": [
    "# Criando diretórios\n",
    "unsplit_dataset = \"./datasets/unsp_wildfire-prediction\"\n",
    "print(f\"Unspliting the dataset in '{destination_path}'...\")\n",
    "\n",
    "final_wildfire_path = os.path.join(unsplit_dataset, 'wildfire')\n",
    "final_no_wildfire_path = os.path.join(unsplit_dataset, 'nowildfire')\n",
    "\n",
    "os.makedirs(final_wildfire_path, exist_ok=True)\n",
    "os.makedirs(final_no_wildfire_path, exist_ok=True)\n",
    "\n",
    "print(f\"Folders created in '{unsplit_dataset}'\\n\")"
   ]
  },
  {
   "cell_type": "code",
   "execution_count": 5,
   "id": "85916480-0a0b-488f-ba9f-365d998757bc",
   "metadata": {},
   "outputs": [
    {
     "name": "stdout",
     "output_type": "stream",
     "text": [
      "Unspliting the dataset in './datasets/wildfire-prediction'...\n",
      "Folders created in './datasets/unsp_wildfire-prediction'\n",
      "\n"
     ]
    },
    {
     "name": "stderr",
     "output_type": "stream",
     "text": [
      "Moving from train/wildfire: 100%|██████████████████████████████████████████████| 15750/15750 [00:04<00:00, 3250.90it/s]\n",
      "Moving from train/nowildfire: 100%|████████████████████████████████████████████| 14500/14500 [00:04<00:00, 3206.65it/s]\n",
      "Moving from test/wildfire: 100%|█████████████████████████████████████████████████| 3480/3480 [00:01<00:00, 3265.16it/s]\n",
      "Moving from test/nowildfire: 100%|███████████████████████████████████████████████| 2820/2820 [00:00<00:00, 3209.79it/s]\n",
      "Moving from valid/wildfire: 100%|████████████████████████████████████████████████| 3480/3480 [00:01<00:00, 3267.54it/s]\n",
      "Moving from valid/nowildfire: 100%|██████████████████████████████████████████████| 2820/2820 [00:00<00:00, 3220.41it/s]"
     ]
    },
    {
     "name": "stdout",
     "output_type": "stream",
     "text": [
      "Process done! Total of 42850 files moved.\n",
      "Unsplited dataset is at './datasets/unsp_wildfire-prediction'.\n"
     ]
    },
    {
     "name": "stderr",
     "output_type": "stream",
     "text": [
      "\n"
     ]
    }
   ],
   "source": [
    "total_files_moved = 0\n",
    "split_folders = ['train', 'test', 'valid']\n",
    "\n",
    "for split in split_folders:\n",
    "    for class_name in ['wildfire', 'nowildfire']:\n",
    "        source_folder = os.path.join(destination_path, split, class_name)\n",
    "        destination_folder = os.path.join(unsplit_dataset, class_name)\n",
    "\n",
    "        if not os.path.isdir(source_folder):\n",
    "            print(f\"Warning: Source folder not found, skipping: {source_folder}\")\n",
    "            continue\n",
    "\n",
    "        files = os.listdir(source_folder)\n",
    "\n",
    "        for file_name in tqdm(files, desc=f\"Moving from {split}/{class_name}\"):\n",
    "            new_file_name = f\"{split}_{file_name}\"\n",
    "\n",
    "            source_file_path = os.path.join(source_folder, file_name)\n",
    "            destination_file_path = os.path.join(destination_folder, new_file_name)\n",
    "\n",
    "            shutil.move(source_file_path, destination_file_path)\n",
    "            total_files_moved += 1\n",
    "\n",
    "print(f\"Process done! Total of {total_files_moved} files moved.\")\n",
    "print(f\"Unsplited dataset is at '{unsplit_dataset}'.\")"
   ]
  },
  {
   "cell_type": "code",
   "execution_count": 4,
   "id": "844e2d22-b1b1-45ee-9974-59baca1a9bce",
   "metadata": {},
   "outputs": [],
   "source": [
    "# Indo para o processo de extração de características\n",
    "from desc_imagens.lbp import lbp\n",
    "from desc_imagens.glcm import glcm\n",
    "import cv2\n",
    "from joblib import Parallel, delayed, dump\n",
    "\n",
    "\n",
    "wildfire_files = os.listdir(final_wildfire_path)\n",
    "no_wildfire_files = os.listdir(final_no_wildfire_path)\n",
    "output_folder = './output/output_features'\n",
    "os.makedirs(output_folder, exist_ok=True)\n",
    "\n",
    "features_file = os.path.join(output_folder, 'features_lbp.npy')\n",
    "labels_file = os.path.join(output_folder, 'labels_lbp.npy')\n"
   ]
  },
  {
   "cell_type": "code",
   "execution_count": 5,
   "id": "f9a9199e-cb68-4701-82f7-e32956194148",
   "metadata": {},
   "outputs": [],
   "source": [
    "def process_image(img_path, label, desc='lbp'):\n",
    "    image_gray = cv2.imread(img_path, cv2.IMREAD_GRAYSCALE)\n",
    "    if image_gray is not None:\n",
    "        if desc == 'lbp':\n",
    "            feature_vector = lbp(image_gray)\n",
    "        elif desc == 'glcm':\n",
    "            feature_vector = glcm(image_gray)\n",
    "        elif desc == 'lpq':\n",
    "            feature_vector = glcm(image_gray)\n",
    "        else:\n",
    "            return None, None\n",
    "        return feature_vector, label\n",
    "    return None, None"
   ]
  },
  {
   "cell_type": "code",
   "execution_count": 6,
   "id": "1b5243d8-dc30-4964-b58c-1bdd54730bc3",
   "metadata": {},
   "outputs": [
    {
     "name": "stdout",
     "output_type": "stream",
     "text": [
      "Preparing processing task list...\n",
      "Total of 42850 images to process.\n"
     ]
    }
   ],
   "source": [
    "# Separando as classes e criando tarefas a serem processadas\n",
    "\n",
    "tasks = []\n",
    "classes = {\n",
    "    'wildfire': 1,\n",
    "    'nowildfire': 0\n",
    "}\n",
    "\n",
    "\n",
    "print(f'Preparing processing task list...')\n",
    "for class_name, label  in classes.items():\n",
    "    class_path = os.path.join(unsplit_dataset, class_name)\n",
    "    image_files = os.listdir(class_path)\n",
    "    for file_name in image_files:\n",
    "        tasks.append((os.path.join(class_path, file_name), label))\n",
    "\n",
    "print(f\"Total of {len(tasks)} images to process.\")"
   ]
  },
  {
   "cell_type": "code",
   "execution_count": 15,
   "id": "aa62c8a3-cf13-4942-ae98-d9812a7711ff",
   "metadata": {},
   "outputs": [
    {
     "name": "stdout",
     "output_type": "stream",
     "text": [
      "Preparing processing task list...\n",
      "Total of 42850 images to process.\n",
      "Starting feature extraction...\n"
     ]
    },
    {
     "data": {
      "application/vnd.jupyter.widget-view+json": {
       "model_id": "fc9895c5c9244db1bb23f723c02f7cea",
       "version_major": 2,
       "version_minor": 0
      },
      "text/plain": [
       "  0%|          | 0/42850 [00:00<?, ?it/s]"
      ]
     },
     "metadata": {},
     "output_type": "display_data"
    },
    {
     "name": "stdout",
     "output_type": "stream",
     "text": [
      "\n",
      "Spliting features and labels...\n",
      "Converting to numpy array and saving...\n",
      "Features array dimension (X): (42850, 59)\n",
      "Labels array dimension (y): (42850,)\n",
      "Saving the arrays in './output/output_features'...\n",
      "Files saved: \n",
      "- ./output/output_features\\features_lbp.npy\n",
      "- ./output/output_features\\labels_lbp.npy\n"
     ]
    }
   ],
   "source": [
    "# Extraindo características usando LBP e \n",
    "# salvando as features e as labels referentes em './output/output_features'\n",
    "\n",
    "\n",
    "print(\"Starting feature extraction...\")\n",
    "\n",
    "# Usando todos os núcleos do CPU\n",
    "results = Parallel(n_jobs=-1)(\n",
    "    delayed(process_image)(path, lbl) for path, lbl in tqdm(tasks) \n",
    ")\n",
    "\n",
    "print(\"\\nSpliting features and labels...\")\n",
    "features = []\n",
    "labels = []\n",
    "\n",
    "for feature, label in results:\n",
    "    if feature is not None:\n",
    "        features.append(feature)\n",
    "        labels.append(label)\n",
    "\n",
    "# Convertendo as listas em numpy arrays\n",
    "print(\"Converting to numpy array and saving...\")\n",
    "\n",
    "X = np.array(features)\n",
    "y = np.array(labels)\n",
    "\n",
    "print(f'Features array dimension (X): {X.shape}')\n",
    "print(f'Labels array dimension (y): {y.shape}')\n",
    "\n",
    "print(f\"Saving the arrays in '{output_folder}'...\")\n",
    "np.save(features_file, X)\n",
    "np.save(labels_file, y)\n",
    "print(f\"Files saved: \\n- {features_file}\\n- {labels_file}\")"
   ]
  },
  {
   "cell_type": "code",
   "execution_count": 5,
   "id": "0d362825-bb21-4feb-b7e9-4ee580bf7cc3",
   "metadata": {},
   "outputs": [
    {
     "name": "stdout",
     "output_type": "stream",
     "text": [
      "Loading features and labels...\n",
      "Features array dimension (X): (42850, 59)\n",
      "Labels array dimension (y): (42850,)\n"
     ]
    }
   ],
   "source": [
    "# Lendo arrays salvas nas outputs\n",
    "print('Loading features and labels...')\n",
    "\n",
    "X = np.load(features_file)\n",
    "print(f'Features array dimension (X): {X.shape}')\n",
    "y = np.load(labels_file)\n",
    "print(f'Labels array dimension (y): {y.shape}')\n"
   ]
  },
  {
   "cell_type": "code",
   "execution_count": 9,
   "id": "27c522a4-d54d-4459-91f5-4f0e10e3517d",
   "metadata": {},
   "outputs": [],
   "source": [
    "# Importando modelos e utilitários\n",
    "from sklearn.model_selection import train_test_split, StratifiedKFold, GridSearchCV\n",
    "import seaborn as sns\n",
    "from sklearn.svm import SVC\n",
    "from sklearn.metrics import classification_report, confusion_matrix\n",
    "\n",
    "# Criando uma pasta para salvar os plots\n",
    "plots_folder = './output/output_plots'\n",
    "os.makedirs(plots_folder, exist_ok=True)\n",
    "\n",
    "# Criando uma pasta para salvar os modelos treinados\n",
    "models_folder = './output/output_models'\n",
    "os.makedirs(models_folder, exist_ok=True)\n"
   ]
  },
  {
   "cell_type": "markdown",
   "id": "9f4e2cd7-6da8-4ff8-a807-7a4ec671b6cd",
   "metadata": {},
   "source": [
    "# SVM com LBP"
   ]
  },
  {
   "cell_type": "code",
   "execution_count": 13,
   "id": "b08e6813-ea2a-42ab-8091-14e35c53758e",
   "metadata": {},
   "outputs": [
    {
     "name": "stdout",
     "output_type": "stream",
     "text": [
      "Data split into 34280 train samples and 8570 test samples.\n",
      "\n",
      "Optimizing SVM with GridSearchCV and k=5...\n",
      "Fitting 5 folds for each of 6 candidates, totalling 30 fits\n",
      "Best hyperparams found: {'C': 100, 'gamma': 0.1, 'kernel': 'rbf'}\n",
      "\n",
      "Saving best trained model in './output/output_models\\svm_lbp.joblib'...\n",
      "Model saved successfuly!\n",
      "\n",
      "---Testing process ---\n",
      "\n",
      "1. Metrics:\n",
      "              precision    recall  f1-score   support\n",
      "\n",
      "  nowildfire       0.89      0.86      0.87      4006\n",
      "    wildfire       0.88      0.90      0.89      4564\n",
      "\n",
      "    accuracy                           0.88      8570\n",
      "   macro avg       0.88      0.88      0.88      8570\n",
      "weighted avg       0.88      0.88      0.88      8570\n",
      "\n",
      "\n",
      "2. Confusion Matrix:\n",
      "Confusion Matrix saved at './output/output_plots\\matriz_confusao_svm_lbp.png...'\n"
     ]
    },
    {
     "data": {
      "image/png": "[encoded data removed]",
      "text/plain": [
       "<Figure size 800x600 with 2 Axes>"
      ]
     },
     "metadata": {},
     "output_type": "display_data"
    }
   ],
   "source": [
    "# Separando conjunto de teste e treino (80% treino, 20% teste)\n",
    "X_train, X_test, y_train, y_test = train_test_split(X, y, test_size=0.2)\n",
    "print(f'Data split into {len(X_train)} train samples and {len(X_test)} test samples.')\n",
    "\n",
    "# Começando processo de otimização e avalização por validação cruzada\n",
    "\n",
    "print(\"\\nOptimizing SVM with GridSearchCV and k=5...\")\n",
    "model_svc = SVC(probability=True)\n",
    "svc_param_grid = {\n",
    "    'C': [1,10,100],\n",
    "    'gamma': [0.1, 0.01],\n",
    "    'kernel': ['rbf']\n",
    "}\n",
    "\n",
    "cv_strategy = StratifiedKFold(n_splits=5, shuffle=True, random_state=42)\n",
    "grid_search = GridSearchCV(model_svc, svc_param_grid, cv=cv_strategy, scoring='accuracy', verbose=2, n_jobs=-1)\n",
    "grid_search.fit(X_train, y_train)\n",
    "\n",
    "# Pegando o melhor modelo obtido pela validação cruzada\n",
    "best_model = grid_search.best_estimator_\n",
    "\n",
    "model_filename = os.path.join(models_folder, 'svm_lbp.joblib')\n",
    "print(f\"Best hyperparams found: {grid_search.best_params_}\")\n",
    "print(f\"\\nSaving best trained model in '{model_filename}'...\")\n",
    "dump(best_model, model_filename)\n",
    "print(\"Model saved successfuly!\")\n",
    "\n",
    "\n",
    "print(\"\\n---Testing process ---\")\n",
    "\n",
    "y_pred = best_model.predict(X_test)\n",
    "\n",
    "print(\"\\n1. Metrics:\")\n",
    "class_names = ['nowildfire', 'wildfire']\n",
    "report = classification_report(y_test, y_pred, target_names=class_names)\n",
    "print(report)\n",
    "\n",
    "print(\"\\n2. Confusion Matrix:\")\n",
    "cm = confusion_matrix(y_test, y_pred)\n",
    "\n",
    "plt.figure(figsize=(8,6))\n",
    "sns.heatmap(cm, annot=True, fmt='d', cmap='Blues', xticklabels=class_names, yticklabels=class_names)\n",
    "plt.title('Matriz de Confusão')\n",
    "plt.ylabel('Classe Real')\n",
    "plt.xlabel('Classe Prevista')\n",
    "\n",
    "output_plot_path = os.path.join(plots_folder, 'matriz_confusao_svm_lbp.png')\n",
    "plt.savefig(output_plot_path, dpi=300)\n",
    "print(f\"Confusion Matrix saved at '{output_plot_path}...'\")\n",
    "\n",
    "plt.show()"
   ]
  },
  {
   "cell_type": "markdown",
   "id": "ba2d613e-1f40-439c-8d50-0bb70129adf8",
   "metadata": {},
   "source": [
    "# Comentários (SVM + LBP)\n",
    "\n",
    "Com os parâmetros sendo definidos em `{'C': 100, 'gamma': 0.1, 'kernel': 'rbf'}` tivemos uma média de 88% no F1-Score. Algo interessante de se ter em conta é que o algoritmo tem um desempenho melhor em identificar zonas que estão queimadas do que zonas que não estão (visto que ele acertou 89% das zonas queimadas e 87% da zonas não queimadas), observando a matriz de confusão, vemos que tivemos um número maior de falsos positivos do que falsos negativos, comparando os valores de *precision* que é aproximadamente 88% e *recall* que é 90%, vemos que ambos são bem proximos, evidenciando um bom balanço, o que indica que o modelo não está simplesmente \"chutando\" a classe majoritária e que ele de fato identificou os padrões de forma eficaz."
   ]
  },
  {
   "cell_type": "markdown",
   "id": "750194c9-d5a1-4759-9f14-0f7a4fe88853",
   "metadata": {},
   "source": [
    "---"
   ]
  },
  {
   "cell_type": "markdown",
   "id": "e2ab57b4-83bd-4b9e-8baf-7874fa8caf47",
   "metadata": {},
   "source": [
    "# SVM com GLCM"
   ]
  },
  {
   "cell_type": "code",
   "execution_count": 7,
   "id": "6e1bac26-c27b-40ee-80f6-434360284ad6",
   "metadata": {},
   "outputs": [
    {
     "name": "stdout",
     "output_type": "stream",
     "text": [
      "Extracting by GLCM...\n"
     ]
    },
    {
     "data": {
      "application/vnd.jupyter.widget-view+json": {
       "model_id": "a37c2de1fd834418a1f1683a1c7cbd90",
       "version_major": 2,
       "version_minor": 0
      },
      "text/plain": [
       "  0%|          | 0/42850 [00:00<?, ?it/s]"
      ]
     },
     "metadata": {},
     "output_type": "display_data"
    },
    {
     "name": "stdout",
     "output_type": "stream",
     "text": [
      "\n",
      "Spliting features and labels...\n",
      "Converting to numpy array and saving...\n",
      "Features array dimension (X): (42850, 72)\n",
      "Labels array dimension (y): (42850,)\n",
      "Saving the arrays in './output/output_features'...\n",
      "Files saved: \n",
      "- ./output/output_features\\features_glcm.npy\n",
      "- ./output/output_features\\labels_glcm.npy\n"
     ]
    }
   ],
   "source": [
    "# Testando com GLCM\n",
    "features_file_glcm = os.path.join(output_folder, 'features_glcm.npy')\n",
    "labels_file_glcm = os.path.join(output_folder, 'labels_glcm.npy')\n",
    "\n",
    "print(\"Extracting by GLCM...\")\n",
    "results_glcm = Parallel(n_jobs=-1)(\n",
    "    delayed(process_image)(path, lbl, 'glcm') for path, lbl in tqdm(tasks) \n",
    ")\n",
    "\n",
    "print(\"\\nSpliting features and labels...\")\n",
    "features_glcm = []\n",
    "labels_glcm = []\n",
    "\n",
    "for feature, label in results_glcm:\n",
    "    if feature is not None:\n",
    "        features_glcm.append(feature)\n",
    "        labels_glcm.append(label)\n",
    "\n",
    "# Convertendo as listas em numpy arrays\n",
    "print(\"Converting to numpy array and saving...\")\n",
    "\n",
    "X_glcm = np.array(features_glcm)\n",
    "y_glcm = np.array(labels_glcm)\n",
    "\n",
    "print(f'Features array dimension (X): {X_glcm.shape}')\n",
    "print(f'Labels array dimension (y): {y_glcm.shape}')\n",
    "\n",
    "print(f\"Saving the arrays in '{output_folder}'...\")\n",
    "np.save(features_file_glcm, X_glcm)\n",
    "np.save(labels_file_glcm, y_glcm)\n",
    "print(f\"Files saved: \\n- {features_file_glcm}\\n- {labels_file_glcm}\")"
   ]
  },
  {
   "cell_type": "code",
   "execution_count": 8,
   "id": "4040450d-c8fb-4336-ba85-dc14a5dfc022",
   "metadata": {},
   "outputs": [
    {
     "name": "stdout",
     "output_type": "stream",
     "text": [
      "Loading features and labels...\n",
      "Features array dimension (X_glcm): (42850, 72)\n",
      "Labels array dimension (y_glcm): (42850,)\n"
     ]
    }
   ],
   "source": [
    "# Lendo arrays salvas nas outputs\n",
    "print('Loading features and labels...')\n",
    "\n",
    "X_glcm = np.load(features_file_glcm)\n",
    "print(f'Features array dimension (X_glcm): {X_glcm.shape}')\n",
    "y_glcm = np.load(labels_file_glcm)\n",
    "print(f'Labels array dimension (y_glcm): {y_glcm.shape}')"
   ]
  },
  {
   "cell_type": "code",
   "execution_count": 12,
   "id": "f582d26b-1cfd-447a-9714-1a0181d22276",
   "metadata": {},
   "outputs": [
    {
     "name": "stdout",
     "output_type": "stream",
     "text": [
      "Data split into 34280 train samples and 8570 test samples.\n",
      "\n",
      "Optimizing SVM with GridSearchCV and k=5...\n",
      "Fitting 5 folds for each of 6 candidates, totalling 30 fits\n",
      "Best hyperparams found: {'C': 100, 'gamma': 0.01, 'kernel': 'rbf'}\n",
      "\n",
      "Saving best trained model in './output/output_models\\svm_glcm.joblib'...\n",
      "Model saved successfuly!\n",
      "\n",
      "---Testing process ---\n",
      "\n",
      "1. Metrics:\n",
      "              precision    recall  f1-score   support\n",
      "\n",
      "  nowildfire       0.70      0.04      0.07      4039\n",
      "    wildfire       0.53      0.98      0.69      4531\n",
      "\n",
      "    accuracy                           0.54      8570\n",
      "   macro avg       0.62      0.51      0.38      8570\n",
      "weighted avg       0.61      0.54      0.40      8570\n",
      "\n",
      "\n",
      "2. Confusion Matrix:\n",
      "Confusion Matrix saved at './output/output_plots\\matriz_confusao_svm_glcm.png...'\n"
     ]
    },
    {
     "data": {
      "image/png": "[encoded data removed]",
      "text/plain": [
       "<Figure size 800x600 with 2 Axes>"
      ]
     },
     "metadata": {},
     "output_type": "display_data"
    }
   ],
   "source": [
    "# Separando conjunto de teste e treino (80% treino, 20% teste)\n",
    "X_train, X_test, y_train, y_test = train_test_split(X_glcm, y_glcm, test_size=0.2)\n",
    "print(f'Data split into {len(X_train)} train samples and {len(X_test)} test samples.')\n",
    "\n",
    "# Otimizando hiperparametros e usando cross-validation com StratifiedKFold e GridSearch\n",
    "print(\"\\nOptimizing SVM with GridSearchCV and k=5...\")\n",
    "model_svc = SVC(probability=True)\n",
    "svc_param_grid = {\n",
    "    'C': [1,10,100],\n",
    "    'gamma': [0.1, 0.01],\n",
    "    'kernel': ['rbf']\n",
    "}\n",
    "\n",
    "cv_strategy = StratifiedKFold(n_splits=5, shuffle=True, random_state=42)\n",
    "grid_search = GridSearchCV(model_svc, svc_param_grid, cv=cv_strategy, scoring='accuracy', verbose=2, n_jobs=-1)\n",
    "grid_search.fit(X_train, y_train)\n",
    "\n",
    "# Pegando o melhor modelo obtido pela validação cruzada\n",
    "best_model = grid_search.best_estimator_\n",
    "\n",
    "model_filename = os.path.join(models_folder, 'svm_glcm.joblib')\n",
    "print(f\"Best hyperparams found: {grid_search.best_params_}\")\n",
    "print(f\"\\nSaving best trained model in '{model_filename}'...\")\n",
    "dump(best_model, model_filename)\n",
    "print(\"Model saved successfuly!\")\n",
    "\n",
    "\n",
    "print(\"\\n---Testing process ---\")\n",
    "\n",
    "y_pred = best_model.predict(X_test)\n",
    "\n",
    "print(\"\\n1. Metrics:\")\n",
    "class_names = ['nowildfire', 'wildfire']\n",
    "report = classification_report(y_test, y_pred, target_names=class_names)\n",
    "print(report)\n",
    "\n",
    "print(\"\\n2. Confusion Matrix:\")\n",
    "cm = confusion_matrix(y_test, y_pred)\n",
    "\n",
    "plt.figure(figsize=(8,6))\n",
    "sns.heatmap(cm, annot=True, fmt='d', cmap='Blues', xticklabels=class_names, yticklabels=class_names)\n",
    "plt.title('Matriz de Confusão')\n",
    "plt.ylabel('Classe Real')\n",
    "plt.xlabel('Classe Prevista')\n",
    "\n",
    "output_plot_path = os.path.join(plots_folder, 'matriz_confusao_svm_glcm.png')\n",
    "plt.savefig(output_plot_path, dpi=300)\n",
    "print(f\"Confusion Matrix saved at '{output_plot_path}...'\")\n",
    "\n",
    "plt.show()"
   ]
  },
  {
   "cell_type": "markdown",
   "id": "cc73f031-41d0-4c50-a9fc-b786d663f33e",
   "metadata": {},
   "source": [
    "# Comentários (SVM + GLCM #1)\n",
    "Tivemos uma acurácia muito baixa dessa vez usando o **GLCM**, de apenas 54%, analisando a Matriz de Confusão, podemos concluir que o modelo na realidade chutou a classe majoritária diversas vezes, explicando o número elevado de falsos positivos e a desproporcionalidade entre o *recall* e a *precision*. Uma das possíveis causas para isto talvez seja a escala dos valores obtidos pelo *GLCM*, uma próxima abordagem tentando padronizar/colocar os dados na mesma escala será tomada. Outra análise a se fazer sobre é que o uso da GLCM aumentou a complexidade computacional para o treinamento da SVM, levando aproximadamente 3 horas para concluir seu treino em uma máquina com um processador com teto de frequência de 4.1GHz, 8 núcleos e 16 threads, enquanto usando o LBP, ela levou aproximadamente 15 minutos para concluir o treino sobre as mesmas condições."
   ]
  },
  {
   "cell_type": "markdown",
   "id": "9ebe2252-4589-41c3-b952-8298390a595e",
   "metadata": {},
   "source": [
    "---"
   ]
  },
  {
   "cell_type": "markdown",
   "id": "18fe0347-fd1f-4359-b7e4-9bd2f9f54ee4",
   "metadata": {},
   "source": [
    "# Random Forest com LBP"
   ]
  },
  {
   "cell_type": "code",
   "execution_count": 14,
   "id": "ee32c5cb-679a-470e-925e-c1de19c3ee3d",
   "metadata": {},
   "outputs": [
    {
     "name": "stdout",
     "output_type": "stream",
     "text": [
      "Loading features and labels from LBP...\n",
      "Data loaded.\n",
      "Data split into 34280 train samples and 8570 test samples.\n"
     ]
    }
   ],
   "source": [
    "# Lendo as features e labels extraídas por LBP\n",
    "print(\"Loading features and labels from LBP...\")\n",
    "X = np.load(features_file)\n",
    "y = np.load(labels_file)\n",
    "print(\"Data loaded.\")\n",
    "\n",
    "# Dividindo o conjunto novamente em treino e teste.\n",
    "X_train, X_test, y_train, y_test = train_test_split(X,y, test_size=0.2)\n",
    "\n",
    "print(f\"Data split into {len(X_train)} train samples and {len(X_test)} test samples.\")"
   ]
  },
  {
   "cell_type": "code",
   "execution_count": 16,
   "id": "a5983892-7881-4287-bac2-b21105e13897",
   "metadata": {},
   "outputs": [
    {
     "name": "stdout",
     "output_type": "stream",
     "text": [
      "\n",
      "--- Optimizing Random Forest with GridSearchCV (k=5) ---\n",
      "Fitting 5 folds for each of 27 candidates, totalling 135 fits\n",
      "\n",
      "--- Results of the Optimization ---\n",
      "Best hyperparams for the Random Forest: {'max_depth': 30, 'min_samples_leaf': 1, 'n_estimators': 300}\n",
      "Best accuracy in the cross-validation: 0.9496\n",
      "\n",
      "--- FINAL TEST FOR THE RANDOM FOREST IN THE TEST SET ---\n",
      "\n",
      "Saving best trained model in './output/output_models\\rf_lbp.joblib'...\n",
      "\n",
      "1. Metrics:\n",
      "              precision    recall  f1-score   support\n",
      "\n",
      "  nowildfire       0.95      0.94      0.95      4050\n",
      "    wildfire       0.95      0.96      0.95      4520\n",
      "\n",
      "    accuracy                           0.95      8570\n",
      "   macro avg       0.95      0.95      0.95      8570\n",
      "weighted avg       0.95      0.95      0.95      8570\n",
      "\n",
      "\n",
      "2. Confusion Matrix:\n"
     ]
    },
    {
     "ename": "NameError",
     "evalue": "name 'y_pred_rf' is not defined",
     "output_type": "error",
     "traceback": [
      "\u001b[31m---------------------------------------------------------------------------\u001b[39m",
      "\u001b[31mNameError\u001b[39m                                 Traceback (most recent call last)",
      "\u001b[36mCell\u001b[39m\u001b[36m \u001b[39m\u001b[32mIn[16]\u001b[39m\u001b[32m, line 45\u001b[39m\n\u001b[32m     42\u001b[39m \u001b[38;5;28mprint\u001b[39m(report_rf)\n\u001b[32m     44\u001b[39m \u001b[38;5;28mprint\u001b[39m(\u001b[33m\"\u001b[39m\u001b[38;5;130;01m\\n\u001b[39;00m\u001b[33m2. Confusion Matrix:\u001b[39m\u001b[33m\"\u001b[39m)\n\u001b[32m---> \u001b[39m\u001b[32m45\u001b[39m cm_rf = confusion_matrix(y_test, y_pred_rf)\n\u001b[32m     46\u001b[39m plt.figure(figsize=(\u001b[32m8\u001b[39m,\u001b[32m6\u001b[39m))\n\u001b[32m     47\u001b[39m sns.heatmap(cm_rf, annot=\u001b[38;5;28;01mTrue\u001b[39;00m, fmt=\u001b[33m'\u001b[39m\u001b[33md\u001b[39m\u001b[33m'\u001b[39m, cmap=\u001b[33m'\u001b[39m\u001b[33mGreens\u001b[39m\u001b[33m'\u001b[39m, xticklabels=class_names, yticklabels=class_names)\n",
      "\u001b[31mNameError\u001b[39m: name 'y_pred_rf' is not defined"
     ]
    }
   ],
   "source": [
    "# Importando o modelo\n",
    "from sklearn.ensemble import RandomForestClassifier\n",
    "\n",
    "print(\"\\n--- Optimizing Random Forest with GridSearchCV (k=5) ---\")\n",
    "\n",
    "# Usando todos os núcleos para paralelizar a construção das árvores.\n",
    "model_rf_lbp = RandomForestClassifier(random_state=42, n_jobs=-1)\n",
    "\n",
    "# Grade de parâmetros para testar.\n",
    "param_grid_rf = {\n",
    "    'n_estimators': [100, 200, 300], # Número de árvores na floresta \n",
    "    'max_depth': [10, 20, 30], # Profundidade máxima das árvores\n",
    "    'min_samples_leaf': [1, 2, 4] # Mínimo de amostras em um nó folha\n",
    "}\n",
    "\n",
    "cv_strategy = StratifiedKFold(n_splits=5, shuffle=True, random_state=42)\n",
    "\n",
    "grid_rf_lbp  = GridSearchCV(\n",
    "    estimator=model_rf_lbp,\n",
    "    param_grid=param_grid_rf,\n",
    "    cv=cv_strategy,\n",
    "    scoring='accuracy',\n",
    "    verbose=2,\n",
    "    n_jobs=-1\n",
    ")\n",
    "\n",
    "grid_rf_lbp.fit(X_train, y_train)\n",
    "\n",
    "print('\\n--- Results of the Optimization ---')\n",
    "print(f\"Best hyperparams for the Random Forest: {grid_rf_lbp.best_params_}\")\n",
    "print(f\"Best accuracy in the cross-validation: {grid_rf_lbp.best_score_:.4f}\")\n",
    "\n",
    "print(\"\\n--- FINAL TEST FOR THE RANDOM FOREST IN THE TEST SET ---\")\n",
    "\n",
    "best_rf_model_lbp = grid_rf_lbp.best_estimator_\n",
    "y_pred_rf_lbp = best_rf_model_lbp.predict(X_test)\n"
   ]
  },
  {
   "cell_type": "code",
   "execution_count": 18,
   "id": "207befbe-a65e-40e2-8869-048b20ef2ded",
   "metadata": {},
   "outputs": [
    {
     "name": "stdout",
     "output_type": "stream",
     "text": [
      "\n",
      "Saving best trained model in './output/output_models\\rf_lbp.joblib'...\n",
      "Model saved successfuly!\n"
     ]
    }
   ],
   "source": [
    "# Salvando o modelo\n",
    "model_filename = os.path.join(models_folder, 'rf_lbp.joblib')\n",
    "print(f\"\\nSaving best trained model in '{model_filename}'...\")\n",
    "dump(best_rf_model_lbp, model_filename)\n",
    "print(\"Model saved successfuly!\")"
   ]
  },
  {
   "cell_type": "code",
   "execution_count": 17,
   "id": "96c4b09a-7611-4f0e-8312-2b1506c66db3",
   "metadata": {},
   "outputs": [
    {
     "name": "stdout",
     "output_type": "stream",
     "text": [
      "\n",
      "1. Metrics:\n",
      "              precision    recall  f1-score   support\n",
      "\n",
      "  nowildfire       0.95      0.94      0.95      4050\n",
      "    wildfire       0.95      0.96      0.95      4520\n",
      "\n",
      "    accuracy                           0.95      8570\n",
      "   macro avg       0.95      0.95      0.95      8570\n",
      "weighted avg       0.95      0.95      0.95      8570\n",
      "\n",
      "\n",
      "2. Confusion Matrix:\n",
      "Confusion Matrix saved at './output/output_plots\\matriz_confusao_rf_lbp.png...'\n"
     ]
    },
    {
     "data": {
      "image/png": "[encoded data removed]",
      "text/plain": [
       "<Figure size 800x600 with 2 Axes>"
      ]
     },
     "metadata": {},
     "output_type": "display_data"
    }
   ],
   "source": [
    "print(\"\\n1. Metrics:\")\n",
    "report_rf = classification_report(y_test, y_pred_rf_lbp, target_names=class_names)\n",
    "print(report_rf)\n",
    "\n",
    "print(\"\\n2. Confusion Matrix:\")\n",
    "cm_rf = confusion_matrix(y_test, y_pred_rf_lbp)\n",
    "plt.figure(figsize=(8,6))\n",
    "sns.heatmap(cm_rf, annot=True, fmt='d', cmap='Greens', xticklabels=class_names, yticklabels=class_names)\n",
    "plt.title('Matriz de confusão - Random Forest com LBP')\n",
    "plt.ylabel('Classe Real')\n",
    "plt.xlabel('Classe Prevista')\n",
    "output_plot_path = os.path.join(plots_folder, 'matriz_confusao_rf_lbp.png')\n",
    "plt.savefig(output_plot_path, dpi=300)\n",
    "print(f\"Confusion Matrix saved at '{output_plot_path}...'\")\n",
    "\n",
    "plt.show()"
   ]
  },
  {
   "cell_type": "markdown",
   "id": "b3a2b74d-aca6-47dd-94ab-c7d0e6da2518",
   "metadata": {},
   "source": [
    "# Comentários - Random Forest com LBP\n",
    "Esse modelo apresentou um desempenho excelente usando os parâmetros `{'max_depth': 30, 'min_samples_leaf': 1, 'n_estimators': 300}` encontrados pelo cross-validation, não há desbalanço entre *precision* e *recall* (95% e ~96% respectivamente), provando que o modelo não fez chutes na classe majoritária e que aprendeu corretamente os padrões para classificar os dados. Quanto ao desempenho superior em relação a SVM, isto pode dizer muito sobre os dados, o LBP pode ter gerado um espaço de características onde a separação das classe se mostra complexa e não-linear, o qual a Random Forest se mostrou mais flexível sobre do que a SVM, outro fator que pode ter influenciado é que a SVM é bem mais sensível aos hiperparâmetros, pode ser que alguma outra variação de parâmetros desempenhasse melhor."
   ]
  },
  {
   "cell_type": "markdown",
   "id": "919b52fd-65b3-4def-9cb1-4027cdf88f54",
   "metadata": {},
   "source": [
    "---"
   ]
  },
  {
   "cell_type": "markdown",
   "id": "c95dc707-85f5-4b00-89fc-5b00a0c09aee",
   "metadata": {},
   "source": [
    "# Random Forest com GLCM"
   ]
  },
  {
   "cell_type": "code",
   "execution_count": 20,
   "id": "eb3614fb-a337-4162-825a-18826f822295",
   "metadata": {},
   "outputs": [
    {
     "name": "stdout",
     "output_type": "stream",
     "text": [
      "Loading features and labels from GLCM...\n",
      "Data loaded.\n",
      "Data split into 34280 train samples and 8570 test samples.\n"
     ]
    }
   ],
   "source": [
    "# Lendo as features e labels extraídas por GLCM\n",
    "print(\"Loading features and labels from GLCM...\")\n",
    "X = np.load(features_file_glcm)\n",
    "y = np.load(labels_file_glcm)\n",
    "print(\"Data loaded.\")\n",
    "\n",
    "# Dividindo o conjunto novamente em treino e teste.\n",
    "X_train, X_test, y_train, y_test = train_test_split(X,y, test_size=0.2)\n",
    "\n",
    "print(f\"Data split into {len(X_train)} train samples and {len(X_test)} test samples.\")"
   ]
  },
  {
   "cell_type": "code",
   "execution_count": 21,
   "id": "23734dee-f55b-461a-bd28-22e741a97a7a",
   "metadata": {},
   "outputs": [
    {
     "name": "stdout",
     "output_type": "stream",
     "text": [
      "\n",
      "--- Optimizing Random Forest with GridSearchCV (k=5) ---\n",
      "Fitting 5 folds for each of 27 candidates, totalling 135 fits\n",
      "\n",
      "--- Results of the Optimization ---\n",
      "Best hyperparams for the Random Forest: {'max_depth': 30, 'min_samples_leaf': 1, 'n_estimators': 200}\n",
      "Best accuracy in the cross-validation: 0.9383\n",
      "\n",
      "--- FINAL TEST FOR THE RANDOM FOREST IN THE TEST SET ---\n"
     ]
    }
   ],
   "source": [
    "print(\"\\n--- Optimizing Random Forest with GridSearchCV (k=5) ---\")\n",
    "\n",
    "# Usando todos os núcleos para paralelizar a construção das árvores.\n",
    "model_rf_glcm = RandomForestClassifier(random_state=42, n_jobs=-1)\n",
    "\n",
    "# Grade de parâmetros para testar.\n",
    "param_grid_rf = {\n",
    "    'n_estimators': [100, 200, 300], # Número de árvores na floresta \n",
    "    'max_depth': [10, 20, 30], # Profundidade máxima das árvores\n",
    "    'min_samples_leaf': [1, 2, 4] # Mínimo de amostras em um nó folha\n",
    "}\n",
    "\n",
    "cv_strategy = StratifiedKFold(n_splits=5, shuffle=True, random_state=42)\n",
    "\n",
    "grid_rf_glcm  = GridSearchCV(\n",
    "    estimator=model_rf_lbp,\n",
    "    param_grid=param_grid_rf,\n",
    "    cv=cv_strategy,\n",
    "    scoring='accuracy',\n",
    "    verbose=2,\n",
    "    n_jobs=-1\n",
    ")\n",
    "\n",
    "grid_rf_glcm.fit(X_train, y_train)\n",
    "\n",
    "print('\\n--- Results of the Optimization ---')\n",
    "print(f\"Best hyperparams for the Random Forest: {grid_rf_glcm.best_params_}\")\n",
    "print(f\"Best accuracy in the cross-validation: {grid_rf_glcm.best_score_:.4f}\")\n",
    "\n",
    "print(\"\\n--- FINAL TEST FOR THE RANDOM FOREST IN THE TEST SET ---\")\n",
    "\n",
    "best_rf_model_glcm = grid_rf_glcm.best_estimator_\n",
    "y_pred_rf_glcm = best_rf_model_glcm.predict(X_test)\n"
   ]
  },
  {
   "cell_type": "code",
   "execution_count": 22,
   "id": "9ece83a3-bda1-4459-a512-b421cb4c2a78",
   "metadata": {},
   "outputs": [
    {
     "name": "stdout",
     "output_type": "stream",
     "text": [
      "\n",
      "Saving best trained model in './output/output_models\\rf_glcm.joblib'...\n",
      "Model saved successfuly!\n"
     ]
    }
   ],
   "source": [
    "# Salvando o modelo\n",
    "model_filename = os.path.join(models_folder, 'rf_glcm.joblib')\n",
    "print(f\"\\nSaving best trained model in '{model_filename}'...\")\n",
    "dump(best_rf_model_glcm, model_filename)\n",
    "print(\"Model saved successfuly!\")"
   ]
  },
  {
   "cell_type": "code",
   "execution_count": 23,
   "id": "4f905b17-3ee1-4971-b54e-9b7fd39a0917",
   "metadata": {},
   "outputs": [
    {
     "name": "stdout",
     "output_type": "stream",
     "text": [
      "\n",
      "1. Metrics:\n",
      "              precision    recall  f1-score   support\n",
      "\n",
      "  nowildfire       0.94      0.93      0.94      4056\n",
      "    wildfire       0.94      0.95      0.94      4514\n",
      "\n",
      "    accuracy                           0.94      8570\n",
      "   macro avg       0.94      0.94      0.94      8570\n",
      "weighted avg       0.94      0.94      0.94      8570\n",
      "\n",
      "\n",
      "2. Confusion Matrix:\n",
      "Confusion Matrix saved at './output/output_plots\\matriz_confusao_rf_glcm.png...'\n"
     ]
    },
    {
     "data": {
      "image/png": "[encoded data removed]",
      "text/plain": [
       "<Figure size 800x600 with 2 Axes>"
      ]
     },
     "metadata": {},
     "output_type": "display_data"
    }
   ],
   "source": [
    "print(\"\\n1. Metrics:\")\n",
    "report_rf = classification_report(y_test, y_pred_rf_glcm, target_names=class_names)\n",
    "print(report_rf)\n",
    "\n",
    "print(\"\\n2. Confusion Matrix:\")\n",
    "cm_rf = confusion_matrix(y_test, y_pred_rf_glcm)\n",
    "plt.figure(figsize=(8,6))\n",
    "sns.heatmap(cm_rf, annot=True, fmt='d', cmap='Greens', xticklabels=class_names, yticklabels=class_names)\n",
    "plt.title('Matriz de confusão - Random Forest com GLCM')\n",
    "plt.ylabel('Classe Real')\n",
    "plt.xlabel('Classe Prevista')\n",
    "output_plot_path = os.path.join(plots_folder, 'matriz_confusao_rf_glcm.png')\n",
    "plt.savefig(output_plot_path, dpi=300)\n",
    "print(f\"Confusion Matrix saved at '{output_plot_path}...'\")\n",
    "\n",
    "plt.show()"
   ]
  },
  {
   "cell_type": "markdown",
   "id": "9de81a5a-31f6-4bf2-8737-dcf1bfd1de93",
   "metadata": {},
   "source": [
    "# Comentários - Random Forest com GLCM\n",
    "A performance desse modelo também foi muito boa, foi um pouco inferior à versão com LBP, o que neste caso pode ter sido apenas uma coincidência devido a divisão dos dados, mas também pode apresentar uma leve vantagem do LBP em relação ao GLCM, com a capacidade do LBP em identificar **micro-padrões** talvez mostrando-se melhor para identificar regiões queimadas. O GLCM eleva a complexidade do conjunto de características formado, e como citado anteriormente, a Random Forest lida bem com isso, enquanto a SVM com a versão não escalonada do GLCM se mostrou nem um pouco performática. "
   ]
  },
  {
   "cell_type": "markdown",
   "id": "b895c4c8-65c6-4417-b9ca-c1b75eb2fc34",
   "metadata": {},
   "source": [
    "---"
   ]
  },
  {
   "cell_type": "markdown",
   "id": "f71052b8-0ff3-4d9d-bc22-c47e4be0e2c0",
   "metadata": {},
   "source": [
    "# SVM com GLCM Escalonado"
   ]
  },
  {
   "cell_type": "code",
   "execution_count": 24,
   "id": "d33da843-59e7-4d43-9b55-32c36576f810",
   "metadata": {},
   "outputs": [
    {
     "name": "stdout",
     "output_type": "stream",
     "text": [
      "Loading features and labels from GLCM...\n",
      "Data loaded.\n",
      "Data split into 34280 train samples and 8570 test samples.\n",
      "Scaling data (StandardScaler)...\n",
      "Data scaled!\n"
     ]
    }
   ],
   "source": [
    "# Lendo as features e labels extraídas por GLCM\n",
    "from sklearn.preprocessing import StandardScaler\n",
    "\n",
    "print(\"Loading features and labels from GLCM...\")\n",
    "X = np.load(features_file_glcm)\n",
    "y = np.load(labels_file_glcm)\n",
    "print(\"Data loaded.\")\n",
    "\n",
    "# Dividindo o conjunto novamente em treino e teste.\n",
    "X_train, X_test, y_train, y_test = train_test_split(X,y, test_size=0.2)\n",
    "print(f\"Data split into {len(X_train)} train samples and {len(X_test)} test samples.\")\n",
    "\n",
    "print(\"Scaling data (StandardScaler)...\")\n",
    "scaler = StandardScaler()\n",
    "\n",
    "X_train_scaled = scaler.fit_transform(X_train)\n",
    "X_test_scaled = scaler.transform(X_test)\n",
    "print(\"Data scaled!\")"
   ]
  },
  {
   "cell_type": "code",
   "execution_count": 26,
   "id": "ea183a26-e9e7-4b33-b4e9-8d841c3a1cae",
   "metadata": {},
   "outputs": [
    {
     "name": "stdout",
     "output_type": "stream",
     "text": [
      "\n",
      "Optimizing SVM with RandomizedSearchCV and StratifiedKFold k=5...\n",
      "Fitting 5 folds for each of 10 candidates, totalling 50 fits\n",
      "\n",
      "--- Results of the Optimization ---\n",
      "Best hyperparams for the SVM: {'kernel': 'rbf', 'gamma': 0.01, 'C': 1000}\n",
      "Best accuracy in the cross-validation: 0.9580\n"
     ]
    }
   ],
   "source": [
    "# Otimizando hiperparametros e usando cross-validation com StratifiedKFold e RandomizedSearchCV\n",
    "from sklearn.model_selection import RandomizedSearchCV\n",
    "\n",
    "print(\"\\nOptimizing SVM with RandomizedSearchCV and StratifiedKFold k=5...\")\n",
    "model_svc = SVC(probability=True)\n",
    "param_distributions = {\n",
    "    'C': [1,10,100, 1000],\n",
    "    'gamma': [0.1, 0.01, 0.001, 0.0001],\n",
    "    'kernel': ['rbf']\n",
    "}\n",
    "\n",
    "cv_strategy = StratifiedKFold(n_splits=5, shuffle=True, random_state=42)\n",
    "random_search_svm = RandomizedSearchCV(\n",
    "    estimator=model_svc,\n",
    "    param_distributions=param_distributions, \n",
    "    n_iter=10,\n",
    "    cv=cv_strategy,\n",
    "    scoring='accuracy',\n",
    "    verbose=2,\n",
    "    random_state=42,\n",
    "    n_jobs=-1\n",
    ") \n",
    "random_search_svm.fit(X_train_scaled, y_train)\n",
    "\n",
    "# Pegando o melhor modelo obtido pela validação cruzada\n",
    "best_model = random_search_svm.best_estimator_\n",
    "\n",
    "print('\\n--- Results of the Optimization ---')\n",
    "print(f\"Best hyperparams for the SVM: {random_search_svm.best_params_}\")\n",
    "print(f\"Best accuracy in the cross-validation: {random_search_svm.best_score_:.4f}\")"
   ]
  },
  {
   "cell_type": "code",
   "execution_count": 27,
   "id": "0109eb4b-dd38-415c-9866-5016b403e483",
   "metadata": {},
   "outputs": [
    {
     "name": "stdout",
     "output_type": "stream",
     "text": [
      "\n",
      "Saving best trained model in './output/output_models\\svm_glcm_scaled.joblib'...\n",
      "Model saved successfuly!\n"
     ]
    }
   ],
   "source": [
    "model_filename = os.path.join(models_folder, 'svm_glcm_scaled.joblib')\n",
    "print(f\"\\nSaving best trained model in '{model_filename}'...\")\n",
    "dump(best_model, model_filename)\n",
    "print(\"Model saved successfuly!\")"
   ]
  },
  {
   "cell_type": "code",
   "execution_count": 28,
   "id": "82f726e7-5e8a-4a8d-8345-043c8ee91452",
   "metadata": {},
   "outputs": [
    {
     "name": "stdout",
     "output_type": "stream",
     "text": [
      "\n",
      "--- Classification Results (WITH SCALED DATA) ---\n",
      "\n",
      "1. Metrics:\n",
      "              precision    recall  f1-score   support\n",
      "\n",
      "  nowildfire       0.96      0.94      0.95      4033\n",
      "    wildfire       0.95      0.96      0.96      4537\n",
      "\n",
      "    accuracy                           0.95      8570\n",
      "   macro avg       0.95      0.95      0.95      8570\n",
      "weighted avg       0.95      0.95      0.95      8570\n",
      "\n",
      "\n",
      "2. Confusion Matrix:\n",
      "Confusion Matrix saved at './output/output_plots\\matriz_confusao_svm_glcm_scaled.png...'\n"
     ]
    },
    {
     "data": {
      "image/png": "[encoded data removed]",
      "text/plain": [
       "<Figure size 800x600 with 2 Axes>"
      ]
     },
     "metadata": {},
     "output_type": "display_data"
    }
   ],
   "source": [
    "y_pred = best_model.predict(X_test_scaled)\n",
    "\n",
    "print(\"\\n--- Classification Results (WITH SCALED DATA) ---\")\n",
    "\n",
    "print(\"\\n1. Metrics:\")\n",
    "report_rf = classification_report(y_test, y_pred, target_names=class_names)\n",
    "print(report_rf)\n",
    "\n",
    "print(\"\\n2. Confusion Matrix:\")\n",
    "cm_rf = confusion_matrix(y_test, y_pred)\n",
    "plt.figure(figsize=(8,6))\n",
    "sns.heatmap(cm_rf, annot=True, fmt='d', cmap='Blues', xticklabels=class_names, yticklabels=class_names)\n",
    "plt.title('Matriz de confusão - SVM com GLCM #2')\n",
    "plt.ylabel('Classe Real')\n",
    "plt.xlabel('Classe Prevista')\n",
    "output_plot_path = os.path.join(plots_folder, 'matriz_confusao_svm_glcm_scaled.png')\n",
    "plt.savefig(output_plot_path, dpi=300)\n",
    "print(f\"Confusion Matrix saved at '{output_plot_path}...'\")\n",
    "\n",
    "plt.show()"
   ]
  },
  {
   "cell_type": "markdown",
   "id": "8d5c6eb5-601e-4add-836f-b7bf208261da",
   "metadata": {},
   "source": [
    "# Comentários - (SVM com GLCM #2)\n",
    "\n",
    "Este modelo apresentou um desempenho equivalente ao *Random Forest com LBP*, podemos levar em consideração os seguintes aspectos para tal ocorrência:\n",
    "- De fato os valores não estarem escalonados antes prejudicaram muito a SVM, visto que esta se baseia na distância dos pontos, e escalas desproporcionais definitivamente afetam a forma que a SVM enxerga eles.\n",
    "- Os hiperparâmetros selecionados podem ter influênciado o desempenho da versão anterior e da versão LBP também. Desta vez eu decidi por aumentar o intervalos de Cs e *gammas* para a *cross-validation*, por fim, a melhor combinação acabou sendo `{'kernel': 'rbf', 'gamma': 0.01, 'C': 1000}`, com um C maior que a versão anterior, implicando em uma menor tolerância a erros por parte da SVM."
   ]
  },
  {
   "cell_type": "code",
   "execution_count": null,
   "id": "3c6c2d62-20b3-40e4-875b-896dfab9d34a",
   "metadata": {},
   "outputs": [],
   "source": []
  }
 ],
 "metadata": {
  "kernelspec": {
   "display_name": "Python 3 (ipykernel)",
   "language": "python",
   "name": "python3"
  },
  "language_info": {
   "codemirror_mode": {
    "name": "ipython",
    "version": 3
   },
   "file_extension": ".py",
   "mimetype": "text/x-python",
   "name": "python",
   "nbconvert_exporter": "python",
   "pygments_lexer": "ipython3",
   "version": "3.13.5"
  }
 },
 "nbformat": 4,
 "nbformat_minor": 5
}
