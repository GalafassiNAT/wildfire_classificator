{
 "cells": [
  {
   "cell_type": "code",
   "execution_count": 11,
   "id": "087dfebc-e737-4e46-b4e2-3c1963d4109e",
   "metadata": {},
   "outputs": [],
   "source": [
    "import pandas as pd\n",
    "import matplotlib.pyplot as plt\n",
    "import numpy as np\n",
    "import kaggle as kg\n",
    "import os\n",
    "import shutil\n",
    "from tqdm import tqdm"
   ]
  },
  {
   "cell_type": "code",
   "execution_count": 13,
   "id": "07633c49-0fa6-4629-9213-9a0476b7cb9a",
   "metadata": {},
   "outputs": [
    {
     "name": "stdout",
     "output_type": "stream",
     "text": [
      "Downloading dataset to './datasets/wildfire-prediction'...\n",
      "Executing kaggle datasets download -d abdelghaniaaba/wildfire-prediction-dataset -p \"./datasets//wildfire-prediction\" --unzip\n",
      "\n",
      "Download Successful\n"
     ]
    }
   ],
   "source": [
    "# Importando o dataset\n",
    "dataset_handle = \"abdelghaniaaba/wildfire-prediction-dataset\"\n",
    "destination_path = \"./datasets/wildfire-prediction\"\n",
    "\n",
    "os.makedirs(destination_path, exist_ok=True)\n",
    "\n",
    "print(f\"Downloading dataset to '{destination_path}'...\")\n",
    "\n",
    "#kaggle_command = f'kaggle datasets download -d {dataset_handle} -p \"{destination_path}\" --unzip'\n",
    "print(f'Executing {kaggle_command}\\n')\n",
    "\n",
    "#os.system(kaggle_command)\n",
    "print(\"Download Successful\")\n"
   ]
  },
  {
   "cell_type": "code",
   "execution_count": 15,
   "id": "85916480-0a0b-488f-ba9f-365d998757bc",
   "metadata": {},
   "outputs": [
    {
     "name": "stdout",
     "output_type": "stream",
     "text": [
      "Unspliting the dataset in './datasets/wildfire-prediction'...\n",
      "Folders created in './datasets/unsp_wildfire-prediction'\n",
      "\n"
     ]
    },
    {
     "name": "stderr",
     "output_type": "stream",
     "text": [
      "Moving from train/wildfire: 100%|█| 15750/15750 [00:00<00:\n",
      "Moving from train/nowildfire: 100%|█| 14500/14500 [00:00<0\n",
      "Moving from test/wildfire: 100%|█| 3480/3480 [00:00<00:00,\n",
      "Moving from test/nowildfire: 100%|█| 2820/2820 [00:00<00:0\n",
      "Moving from valid/wildfire: 100%|█| 3480/3480 [00:00<00:00\n",
      "Moving from valid/nowildfire: 100%|█| 2820/2820 [00:00<00:"
     ]
    },
    {
     "name": "stdout",
     "output_type": "stream",
     "text": [
      "Process done! Total of 42850 files moved.\n",
      "Unsplited dataset is at './datasets/unsp_wildfire-prediction'.\n"
     ]
    },
    {
     "name": "stderr",
     "output_type": "stream",
     "text": [
      "\n"
     ]
    }
   ],
   "source": [
    "unsplit_dataset = \"./datasets/unsp_wildfire-prediction\"\n",
    "print(f\"Unspliting the dataset in '{destination_path}'...\")\n",
    "\n",
    "final_wildfire_path = os.path.join(unsplit_dataset, 'wildfire')\n",
    "final_no_wildfire_path = os.path.join(unsplit_dataset, 'nowildfire')\n",
    "\n",
    "os.makedirs(final_wildfire_path, exist_ok=True)\n",
    "os.makedirs(final_no_wildfire_path, exist_ok=True)\n",
    "\n",
    "print(f\"Folders created in '{unsplit_dataset}'\\n\")\n",
    "\n",
    "total_files_moved = 0\n",
    "split_folders = ['train', 'test', 'valid']\n",
    "\n",
    "for split in split_folders:\n",
    "    for class_name in ['wildfire', 'nowildfire']:\n",
    "        source_folder = os.path.join(destination_path, split, class_name)\n",
    "        destination_folder = os.path.join(unsplit_dataset, class_name)\n",
    "\n",
    "        if not os.path.isdir(source_folder):\n",
    "            print(f\"Warning: Source folder not found, skipping: {source_folder}\")\n",
    "            continue\n",
    "\n",
    "        files = os.listdir(source_folder)\n",
    "\n",
    "        for file_name in tqdm(files, desc=f\"Moving from {split}/{class_name}\"):\n",
    "            new_file_name = f\"{split}_{file_name}\"\n",
    "\n",
    "            source_file_path = os.path.join(source_folder, file_name)\n",
    "            destination_file_path = os.path.join(destination_folder, new_file_name)\n",
    "\n",
    "            shutil.move(source_file_path, destination_file_path)\n",
    "            total_files_moved += 1\n",
    "\n",
    "print(f\"Process done! Total of {total_files_moved} files moved.\")\n",
    "print(f\"Unsplited dataset is at '{unsplit_dataset}'.\")"
   ]
  },
  {
   "cell_type": "code",
   "execution_count": null,
   "id": "aa62c8a3-cf13-4942-ae98-d9812a7711ff",
   "metadata": {},
   "outputs": [],
   "source": []
  }
 ],
 "metadata": {
  "kernelspec": {
   "display_name": "Python 3 (ipykernel)",
   "language": "python",
   "name": "python3"
  },
  "language_info": {
   "codemirror_mode": {
    "name": "ipython",
    "version": 3
   },
   "file_extension": ".py",
   "mimetype": "text/x-python",
   "name": "python",
   "nbconvert_exporter": "python",
   "pygments_lexer": "ipython3",
   "version": "3.13.5"
  }
 },
 "nbformat": 4,
 "nbformat_minor": 5
}
